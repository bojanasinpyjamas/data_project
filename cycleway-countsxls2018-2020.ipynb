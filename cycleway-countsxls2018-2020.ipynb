{
 "cells": [
  {
   "cell_type": "code",
   "execution_count": 4,
   "metadata": {},
   "outputs": [],
   "source": [
    "import matplotlib\n",
    "import matplotlib.pyplot as plt\n",
    "import numpy as np\n",
    "import pandas as pd\n",
    "import os\n",
    "from datetime import datetime"
   ]
  },
  {
   "cell_type": "code",
   "execution_count": 5,
   "metadata": {},
   "outputs": [],
   "source": [
    "%matplotlib inline"
   ]
  },
  {
   "cell_type": "code",
   "execution_count": 6,
   "metadata": {},
   "outputs": [],
   "source": [
    "plt.rcParams['figure.figsize'] = (10, 5)"
   ]
  },
  {
   "cell_type": "code",
   "execution_count": 7,
   "metadata": {
    "slideshow": {
     "slide_type": "skip"
    }
   },
   "outputs": [],
   "source": [
    "saved_style_state = matplotlib.rcParams.copy()"
   ]
  },
  {
   "cell_type": "code",
   "execution_count": 11,
   "metadata": {
    "slideshow": {
     "slide_type": "fragment"
    }
   },
   "outputs": [
    {
     "name": "stdout",
     "output_type": "stream",
     "text": [
      "loading from file\n",
      "done\n"
     ]
    }
   ],
   "source": [
    "if os.path.isfile(\"Cycleway Counts_01Jan18_11Sept20.xlsx\"):\n",
    "    filepath = \"Cycleway Counts_01Jan18_11Sept20.xlsx\"\n",
    "    print(\"loading from file\")\n",
    "else:\n",
    "    filepath = \"https://opendata.transport.nsw.gov.au/system/files/resources/Cycleway%20Counts_01Jan18_11Sept20.xlsx\"\n",
    "    print(\"loading from the internet\")\n",
    "\n",
    "cycleway_usage = pd.read_excel(filepath)\n",
    "print(\"done\")"
   ]
  },
  {
   "cell_type": "code",
   "execution_count": 12,
   "metadata": {
    "slideshow": {
     "slide_type": "slide"
    }
   },
   "outputs": [
    {
     "data": {
      "text/html": [
       "<div>\n",
       "<style scoped>\n",
       "    .dataframe tbody tr th:only-of-type {\n",
       "        vertical-align: middle;\n",
       "    }\n",
       "\n",
       "    .dataframe tbody tr th {\n",
       "        vertical-align: top;\n",
       "    }\n",
       "\n",
       "    .dataframe thead th {\n",
       "        text-align: right;\n",
       "    }\n",
       "</style>\n",
       "<table border=\"1\" class=\"dataframe\">\n",
       "  <thead>\n",
       "    <tr style=\"text-align: right;\">\n",
       "      <th></th>\n",
       "      <th>Average Daily Cycle Count</th>\n",
       "      <th>100005 - Merremburn Avenue, Naremburn (offramp path) (Cycleway and Pedestrian counter)</th>\n",
       "      <th>Unnamed: 2</th>\n",
       "      <th>Unnamed: 3</th>\n",
       "      <th>Unnamed: 4</th>\n",
       "      <th>Unnamed: 5</th>\n",
       "      <th>Unnamed: 6</th>\n",
       "      <th>Unnamed: 7</th>\n",
       "      <th>Unnamed: 8</th>\n",
       "      <th>Unnamed: 9</th>\n",
       "      <th>...</th>\n",
       "      <th>Unnamed: 486</th>\n",
       "      <th>Unnamed: 487</th>\n",
       "      <th>Unnamed: 488</th>\n",
       "      <th>Unnamed: 489</th>\n",
       "      <th>Unnamed: 490</th>\n",
       "      <th>Unnamed: 491</th>\n",
       "      <th>Unnamed: 492</th>\n",
       "      <th>Unnamed: 493</th>\n",
       "      <th>Unnamed: 494</th>\n",
       "      <th>Unnamed: 495</th>\n",
       "    </tr>\n",
       "  </thead>\n",
       "  <tbody>\n",
       "    <tr>\n",
       "      <th>0</th>\n",
       "      <td>NaN</td>\n",
       "      <td>Cycling</td>\n",
       "      <td>NaN</td>\n",
       "      <td>NaN</td>\n",
       "      <td>NaN</td>\n",
       "      <td>NaN</td>\n",
       "      <td>Pedestrian</td>\n",
       "      <td>NaN</td>\n",
       "      <td>NaN</td>\n",
       "      <td>NaN</td>\n",
       "      <td>...</td>\n",
       "      <td>Pedestrian</td>\n",
       "      <td>NaN</td>\n",
       "      <td>NaN</td>\n",
       "      <td>NaN</td>\n",
       "      <td>NaN</td>\n",
       "      <td>Sum (All Transport Modes)</td>\n",
       "      <td>NaN</td>\n",
       "      <td>NaN</td>\n",
       "      <td>NaN</td>\n",
       "      <td>NaN</td>\n",
       "    </tr>\n",
       "    <tr>\n",
       "      <th>1</th>\n",
       "      <td>NaN</td>\n",
       "      <td>North</td>\n",
       "      <td>East</td>\n",
       "      <td>South</td>\n",
       "      <td>West</td>\n",
       "      <td>All Directions</td>\n",
       "      <td>North</td>\n",
       "      <td>East</td>\n",
       "      <td>South</td>\n",
       "      <td>West</td>\n",
       "      <td>...</td>\n",
       "      <td>North</td>\n",
       "      <td>East</td>\n",
       "      <td>South</td>\n",
       "      <td>West</td>\n",
       "      <td>All Directions</td>\n",
       "      <td>North</td>\n",
       "      <td>East</td>\n",
       "      <td>South</td>\n",
       "      <td>West</td>\n",
       "      <td>All Directions</td>\n",
       "    </tr>\n",
       "    <tr>\n",
       "      <th>2</th>\n",
       "      <td>01/01/2018</td>\n",
       "      <td></td>\n",
       "      <td></td>\n",
       "      <td></td>\n",
       "      <td></td>\n",
       "      <td></td>\n",
       "      <td></td>\n",
       "      <td></td>\n",
       "      <td></td>\n",
       "      <td></td>\n",
       "      <td>...</td>\n",
       "      <td>85.666667</td>\n",
       "      <td>50.833333</td>\n",
       "      <td>85.5</td>\n",
       "      <td>50.666667</td>\n",
       "      <td>272.666667</td>\n",
       "      <td>161</td>\n",
       "      <td>85.566667</td>\n",
       "      <td>153.966667</td>\n",
       "      <td>83.866667</td>\n",
       "      <td>484.4</td>\n",
       "    </tr>\n",
       "    <tr>\n",
       "      <th>3</th>\n",
       "      <td>02/01/2018</td>\n",
       "      <td></td>\n",
       "      <td></td>\n",
       "      <td></td>\n",
       "      <td></td>\n",
       "      <td></td>\n",
       "      <td></td>\n",
       "      <td></td>\n",
       "      <td></td>\n",
       "      <td></td>\n",
       "      <td>...</td>\n",
       "      <td>71</td>\n",
       "      <td>44.333333</td>\n",
       "      <td>71.166667</td>\n",
       "      <td>44.333333</td>\n",
       "      <td>230.833333</td>\n",
       "      <td>192.2</td>\n",
       "      <td>102.733333</td>\n",
       "      <td>188.7</td>\n",
       "      <td>100.133333</td>\n",
       "      <td>583.766667</td>\n",
       "    </tr>\n",
       "    <tr>\n",
       "      <th>4</th>\n",
       "      <td>03/01/2018</td>\n",
       "      <td></td>\n",
       "      <td></td>\n",
       "      <td></td>\n",
       "      <td></td>\n",
       "      <td></td>\n",
       "      <td></td>\n",
       "      <td></td>\n",
       "      <td></td>\n",
       "      <td></td>\n",
       "      <td>...</td>\n",
       "      <td>73</td>\n",
       "      <td>48.166667</td>\n",
       "      <td>73.166667</td>\n",
       "      <td>48.166667</td>\n",
       "      <td>242.5</td>\n",
       "      <td>195.466667</td>\n",
       "      <td>103.433333</td>\n",
       "      <td>189.766667</td>\n",
       "      <td>102.433333</td>\n",
       "      <td>591.1</td>\n",
       "    </tr>\n",
       "  </tbody>\n",
       "</table>\n",
       "<p>5 rows × 496 columns</p>\n",
       "</div>"
      ],
      "text/plain": [
       "  Average Daily Cycle Count  \\\n",
       "0                       NaN   \n",
       "1                       NaN   \n",
       "2                01/01/2018   \n",
       "3                02/01/2018   \n",
       "4                03/01/2018   \n",
       "\n",
       "  100005 - Merremburn Avenue, Naremburn (offramp path) (Cycleway and Pedestrian counter)  \\\n",
       "0                                            Cycling                                       \n",
       "1                                              North                                       \n",
       "2                                                                                          \n",
       "3                                                                                          \n",
       "4                                                                                          \n",
       "\n",
       "  Unnamed: 2 Unnamed: 3 Unnamed: 4      Unnamed: 5  Unnamed: 6 Unnamed: 7  \\\n",
       "0        NaN        NaN        NaN             NaN  Pedestrian        NaN   \n",
       "1       East      South       West  All Directions       North       East   \n",
       "2                                                                           \n",
       "3                                                                           \n",
       "4                                                                           \n",
       "\n",
       "  Unnamed: 8 Unnamed: 9  ... Unnamed: 486 Unnamed: 487 Unnamed: 488  \\\n",
       "0        NaN        NaN  ...   Pedestrian          NaN          NaN   \n",
       "1      South       West  ...        North         East        South   \n",
       "2                        ...    85.666667    50.833333         85.5   \n",
       "3                        ...           71    44.333333    71.166667   \n",
       "4                        ...           73    48.166667    73.166667   \n",
       "\n",
       "  Unnamed: 489    Unnamed: 490               Unnamed: 491 Unnamed: 492  \\\n",
       "0          NaN             NaN  Sum (All Transport Modes)          NaN   \n",
       "1         West  All Directions                      North         East   \n",
       "2    50.666667      272.666667                        161    85.566667   \n",
       "3    44.333333      230.833333                      192.2   102.733333   \n",
       "4    48.166667           242.5                 195.466667   103.433333   \n",
       "\n",
       "  Unnamed: 493 Unnamed: 494    Unnamed: 495  \n",
       "0          NaN          NaN             NaN  \n",
       "1        South         West  All Directions  \n",
       "2   153.966667    83.866667           484.4  \n",
       "3        188.7   100.133333      583.766667  \n",
       "4   189.766667   102.433333           591.1  \n",
       "\n",
       "[5 rows x 496 columns]"
      ]
     },
     "execution_count": 12,
     "metadata": {},
     "output_type": "execute_result"
    }
   ],
   "source": [
    "cycleway_usage.head()"
   ]
  }
 ],
 "metadata": {
  "kernelspec": {
   "display_name": "Python 3.10.5 64-bit (windows store)",
   "language": "python",
   "name": "python3"
  },
  "language_info": {
   "codemirror_mode": {
    "name": "ipython",
    "version": 3
   },
   "file_extension": ".py",
   "mimetype": "text/x-python",
   "name": "python",
   "nbconvert_exporter": "python",
   "pygments_lexer": "ipython3",
   "version": "3.10.5"
  },
  "orig_nbformat": 4,
  "vscode": {
   "interpreter": {
    "hash": "a8faddf26fcb7feff22a737dbbb0e836f3d4b6f98fc0709567a7747334109e3e"
   }
  }
 },
 "nbformat": 4,
 "nbformat_minor": 2
}
