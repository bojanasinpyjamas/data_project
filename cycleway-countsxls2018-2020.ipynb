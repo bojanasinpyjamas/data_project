{
 "cells": [
  {
   "cell_type": "code",
   "execution_count": null,
   "metadata": {},
   "outputs": [],
   "source": [
    "import matplotlib\n",
    "import matplotlib.pyplot as plt\n",
    "import numpy as np\n",
    "import pandas as pd\n",
    "import os\n",
    "from datetime import datetime"
   ]
  },
  {
   "cell_type": "code",
   "execution_count": null,
   "metadata": {},
   "outputs": [],
   "source": [
    "%matplotlib inline"
   ]
  },
  {
   "cell_type": "code",
   "execution_count": null,
   "metadata": {},
   "outputs": [],
   "source": [
    "plt.rcParams['figure.figsize'] = (10, 5)"
   ]
  },
  {
   "cell_type": "code",
   "execution_count": null,
   "metadata": {
    "slideshow": {
     "slide_type": "skip"
    }
   },
   "outputs": [],
   "source": [
    "saved_style_state = matplotlib.rcParams.copy()"
   ]
  },
  {
   "cell_type": "code",
   "execution_count": 1,
   "metadata": {
    "slideshow": {
     "slide_type": "fragment"
    }
   },
   "outputs": [
    {
     "name": "stdout",
     "output_type": "stream",
     "text": [
      "loading from file\n"
     ]
    },
    {
     "ename": "NameError",
     "evalue": "name 'pd' is not defined",
     "output_type": "error",
     "traceback": [
      "\u001b[1;31m---------------------------------------------------------------------------\u001b[0m",
      "\u001b[1;31mNameError\u001b[0m                                 Traceback (most recent call last)",
      "\u001b[1;32mc:\\Users\\Bojana Pavlovic\\1161\\data_project\\cycleway-countsxls2018-2020.ipynb Cell 5'\u001b[0m in \u001b[0;36m<cell line: 8>\u001b[1;34m()\u001b[0m\n\u001b[0;32m      <a href='vscode-notebook-cell:/c%3A/Users/Bojana%20Pavlovic/1161/data_project/cycleway-countsxls2018-2020.ipynb#ch0000005?line=4'>5</a>\u001b[0m     filepath \u001b[39m=\u001b[39m \u001b[39m\"\u001b[39m\u001b[39mhttps://opendata.transport.nsw.gov.au/system/files/resources/Cycleway\u001b[39m\u001b[39m%\u001b[39m\u001b[39m20Counts_01Jan18_11Sept20.xlsx\u001b[39m\u001b[39m\"\u001b[39m\n\u001b[0;32m      <a href='vscode-notebook-cell:/c%3A/Users/Bojana%20Pavlovic/1161/data_project/cycleway-countsxls2018-2020.ipynb#ch0000005?line=5'>6</a>\u001b[0m     \u001b[39mprint\u001b[39m(\u001b[39m\"\u001b[39m\u001b[39mloading from the internet\u001b[39m\u001b[39m\"\u001b[39m)\n\u001b[1;32m----> <a href='vscode-notebook-cell:/c%3A/Users/Bojana%20Pavlovic/1161/data_project/cycleway-countsxls2018-2020.ipynb#ch0000005?line=7'>8</a>\u001b[0m cycleway_usage \u001b[39m=\u001b[39m pd\u001b[39m.\u001b[39mread_csv(filepath)\n\u001b[0;32m      <a href='vscode-notebook-cell:/c%3A/Users/Bojana%20Pavlovic/1161/data_project/cycleway-countsxls2018-2020.ipynb#ch0000005?line=8'>9</a>\u001b[0m \u001b[39mprint\u001b[39m(\u001b[39m\"\u001b[39m\u001b[39mdone\u001b[39m\u001b[39m\"\u001b[39m)\n",
      "\u001b[1;31mNameError\u001b[0m: name 'pd' is not defined"
     ]
    }
   ],
   "source": [
    "if os.path.isfile(\"Cycleway Counts_01Jan18_11Sept20.xlsx\"):\n",
    "    filepath = \"Cycleway Counts_01Jan18_11Sept20.xlsx\"\n",
    "    print(\"loading from file\")\n",
    "else:\n",
    "    filepath = \"https://opendata.transport.nsw.gov.au/system/files/resources/Cycleway%20Counts_01Jan18_11Sept20.xlsx\"\n",
    "    print(\"loading from the internet\")\n",
    "\n",
    "cycleway_usage = pd.read_csv(filepath)\n",
    "print(\"done\")"
   ]
  },
  {
   "cell_type": "code",
   "execution_count": 2,
   "metadata": {
    "slideshow": {
     "slide_type": "slide"
    }
   },
   "outputs": [
    {
     "ename": "NameError",
     "evalue": "name 'cycleway_usage' is not defined",
     "output_type": "error",
     "traceback": [
      "\u001b[1;31m---------------------------------------------------------------------------\u001b[0m",
      "\u001b[1;31mNameError\u001b[0m                                 Traceback (most recent call last)",
      "\u001b[1;32mc:\\Users\\Bojana Pavlovic\\1161\\data_project\\cycleway-countsxls2018-2020.ipynb Cell 6'\u001b[0m in \u001b[0;36m<cell line: 1>\u001b[1;34m()\u001b[0m\n\u001b[1;32m----> <a href='vscode-notebook-cell:/c%3A/Users/Bojana%20Pavlovic/1161/data_project/cycleway-countsxls2018-2020.ipynb#ch0000006?line=0'>1</a>\u001b[0m cycleway_usage\u001b[39m.\u001b[39mhead()\n",
      "\u001b[1;31mNameError\u001b[0m: name 'cycleway_usage' is not defined"
     ]
    }
   ],
   "source": [
    "cycleway_usage.head()"
   ]
  }
 ],
 "metadata": {
  "kernelspec": {
   "display_name": "Python 3.10.5 64-bit (windows store)",
   "language": "python",
   "name": "python3"
  },
  "language_info": {
   "codemirror_mode": {
    "name": "ipython",
    "version": 3
   },
   "file_extension": ".py",
   "mimetype": "text/x-python",
   "name": "python",
   "nbconvert_exporter": "python",
   "pygments_lexer": "ipython3",
   "version": "3.10.5"
  },
  "orig_nbformat": 4,
  "vscode": {
   "interpreter": {
    "hash": "a8faddf26fcb7feff22a737dbbb0e836f3d4b6f98fc0709567a7747334109e3e"
   }
  }
 },
 "nbformat": 4,
 "nbformat_minor": 2
}
