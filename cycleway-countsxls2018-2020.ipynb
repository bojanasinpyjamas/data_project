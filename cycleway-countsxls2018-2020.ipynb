{
 "cells": [
  {
   "cell_type": "markdown",
   "metadata": {},
   "source": [
    "# CYCLING IN SYDNEY"
   ]
  },
  {
   "cell_type": "code",
   "execution_count": null,
   "metadata": {},
   "outputs": [],
   "source": [
    "import matplotlib\n",
    "import matplotlib.pyplot as plt\n",
    "import numpy as np\n",
    "import pandas as pd\n",
    "import os\n",
    "import math\n",
    "from datetime import datetime"
   ]
  },
  {
   "cell_type": "code",
   "execution_count": null,
   "metadata": {},
   "outputs": [],
   "source": [
    "%matplotlib inline"
   ]
  },
  {
   "cell_type": "code",
   "execution_count": null,
   "metadata": {},
   "outputs": [],
   "source": [
    "plt.rcParams['figure.figsize'] = (10, 5)"
   ]
  },
  {
   "cell_type": "code",
   "execution_count": null,
   "metadata": {
    "slideshow": {
     "slide_type": "skip"
    }
   },
   "outputs": [],
   "source": [
    "saved_style_state = matplotlib.rcParams.copy()"
   ]
  },
  {
   "cell_type": "markdown",
   "metadata": {},
   "source": [
    "## 1. importing data"
   ]
  },
  {
   "cell_type": "code",
   "execution_count": null,
   "metadata": {
    "slideshow": {
     "slide_type": "fragment"
    }
   },
   "outputs": [],
   "source": [
    "if os.path.isfile(\"Cycleway Counts_01Jan18_11Sept20.xlsx\"):\n",
    "    filepath = \"Cycleway Counts_01Jan18_11Sept20.xlsx\"\n",
    "    print(\"loading from file\")\n",
    "else:\n",
    "    filepath = \"https://opendata.transport.nsw.gov.au/system/files/resources/Cycleway%20Counts_01Jan18_11Sept20.xlsx\"\n",
    "    print(\"loading from the internet\")\n",
    "\n",
    "cycleway_usage = pd.read_excel(filepath, sheet_name=\"daily counts\")\n",
    "print(\"done\")\n"
   ]
  },
  {
   "cell_type": "code",
   "execution_count": null,
   "metadata": {
    "slideshow": {
     "slide_type": "slide"
    }
   },
   "outputs": [],
   "source": [
    "cycleway_usage.head()"
   ]
  },
  {
   "cell_type": "markdown",
   "metadata": {},
   "source": [
    "# 1.a ben's assistance"
   ]
  },
  {
   "cell_type": "code",
   "execution_count": null,
   "metadata": {},
   "outputs": [],
   "source": [
    "dir_lookup = [\"North\", \"East\", \"South\", \"West\", \"All Directions\"]\n",
    "def get_mode(index):\n",
    "    if index<5:\n",
    "        return \"Cycling\"\n",
    "    else:\n",
    "        return \"Pedestrian\"\n",
    "\n",
    "locations_sparse = [x for x in cycleway_usage.columns if \"Unnamed\" not in x ]"
   ]
  },
  {
   "cell_type": "code",
   "execution_count": null,
   "metadata": {},
   "outputs": [],
   "source": [
    "def get_loc(i, response_type=\"all\"):\n",
    "    try:\n",
    "        loc = locations_sparse[math.ceil(i/15)]\n",
    "        if response_type == \"all\":\n",
    "            return loc\n",
    "        elif response_type == \"code\":\n",
    "            return loc.split(\"-\")[0].strip()\n",
    "        elif response_type == \"name\":\n",
    "            return loc.split(\"-\")[1].strip()\n",
    "        # You can extend this to pull out the notes, like (Cycleway and Pedestrian counter), but they're pretty inconsistent\n",
    "        else:\n",
    "            print(f\"`{response_type}` is not implemented yet\")\n",
    "    except:\n",
    "        print(\"er\")\n"
   ]
  },
  {
   "cell_type": "code",
   "execution_count": null,
   "metadata": {},
   "outputs": [],
   "source": [
    "new_rows = []\n",
    "for i, row in cycleway_usage.iterrows():\n",
    "    if i < 3:\n",
    "        continue  # This feels nasty\n",
    "\n",
    "    date = row[0]\n",
    "    for loc_index in range(1, len(row) - 15, 15):\n",
    "        section = row[\n",
    "            loc_index : loc_index + 10\n",
    "        ]  # 10 because we don't care about the Sum (All Transport Modes) section\n",
    "        for col_index, col in enumerate(section):\n",
    "            dir = dir_lookup[col_index % 5]\n",
    "            if type(col) is int and col != 0 and dir != \"All Directions\":\n",
    "                r = {\n",
    "                    \"date\": date,\n",
    "                    \"location_name\": get_loc(loc_index, \"name\"),\n",
    "                    \"station\": get_loc(loc_index, \"code\"),\n",
    "                    \"mode\": get_mode(col_index),\n",
    "                    \"direction\": dir,\n",
    "                    \"count\": int(col),\n",
    "                }\n",
    "                new_rows.append(r)"
   ]
  },
  {
   "cell_type": "markdown",
   "metadata": {},
   "source": [
    "# 1.b converting datetime"
   ]
  },
  {
   "cell_type": "code",
   "execution_count": null,
   "metadata": {},
   "outputs": [],
   "source": [
    "time_df = pd.DataFrame(new_rows)\n",
    "time_df['date'] = pd.to_datetime(t_df['date'], infer_datetime_format=True)\n",
    "time_df.sort_values(by='date', inplace=True) "
   ]
  },
  {
   "cell_type": "code",
   "execution_count": null,
   "metadata": {},
   "outputs": [],
   "source": [
    "print(time_df.shape)\n",
    "time_df.head() "
   ]
  },
  {
   "cell_type": "markdown",
   "metadata": {},
   "source": [
    "### Questions\n",
    "* Who is travelling into the city, out of the city?\n",
    "* Weekdays vs weekend? See comparison, poor connections? Limitations of only pathways/single counter?"
   ]
  },
  {
   "cell_type": "markdown",
   "metadata": {},
   "source": [
    "## 2. data visualisation over time\n",
    "* per day/ per month bar chart\n",
    "* section off weekends?\n",
    "* weekdays?"
   ]
  },
  {
   "cell_type": "markdown",
   "metadata": {},
   "source": [
    "## 3. data visualisation linked to location\n",
    "* plot points on a map\n",
    "* set size relation to counter (int)\n",
    "* set colour/arrow relation to counter/direction\n",
    "* where is there a lot of cycling? "
   ]
  },
  {
   "cell_type": "code",
   "execution_count": 4,
   "metadata": {},
   "outputs": [
    {
     "name": "stdout",
     "output_type": "stream",
     "text": [
      "loading from file\n"
     ]
    },
    {
     "ename": "NameError",
     "evalue": "name 'pd' is not defined",
     "output_type": "error",
     "traceback": [
      "\u001b[1;31m---------------------------------------------------------------------------\u001b[0m",
      "\u001b[1;31mNameError\u001b[0m                                 Traceback (most recent call last)",
      "\u001b[1;32mc:\\Users\\Bojana.Pavlovic\\1161\\data_project\\cycleway-countsxls2018-2020.ipynb Cell 19\u001b[0m in \u001b[0;36m<cell line: 8>\u001b[1;34m()\u001b[0m\n\u001b[0;32m      <a href='vscode-notebook-cell:/c%3A/Users/Bojana.Pavlovic/1161/data_project/cycleway-countsxls2018-2020.ipynb#ch0000012?line=4'>5</a>\u001b[0m     counterfilepath \u001b[39m=\u001b[39m \u001b[39m\"\u001b[39m\u001b[39mhttps://opendata.transport.nsw.gov.au/node/6771/download\u001b[39m\u001b[39m\"\u001b[39m\n\u001b[0;32m      <a href='vscode-notebook-cell:/c%3A/Users/Bojana.Pavlovic/1161/data_project/cycleway-countsxls2018-2020.ipynb#ch0000012?line=5'>6</a>\u001b[0m     \u001b[39mprint\u001b[39m(\u001b[39m\"\u001b[39m\u001b[39mloading from the internet\u001b[39m\u001b[39m\"\u001b[39m)\n\u001b[1;32m----> <a href='vscode-notebook-cell:/c%3A/Users/Bojana.Pavlovic/1161/data_project/cycleway-countsxls2018-2020.ipynb#ch0000012?line=7'>8</a>\u001b[0m cycleway_counterlocation \u001b[39m=\u001b[39m pd\u001b[39m.\u001b[39mread_csv(counterfilepath)\n\u001b[0;32m      <a href='vscode-notebook-cell:/c%3A/Users/Bojana.Pavlovic/1161/data_project/cycleway-countsxls2018-2020.ipynb#ch0000012?line=8'>9</a>\u001b[0m \u001b[39mprint\u001b[39m(\u001b[39m\"\u001b[39m\u001b[39mdone\u001b[39m\u001b[39m\"\u001b[39m)\n",
      "\u001b[1;31mNameError\u001b[0m: name 'pd' is not defined"
     ]
    }
   ],
   "source": [
    "if os.path.isfile(\"cyclecounters-Oct-2019.csv\"):\n",
    "    counterfilepath = \"cyclecounters-Oct-2019.csv\"\n",
    "    print(\"loading from file\")\n",
    "else:\n",
    "    counterfilepath = \"https://opendata.transport.nsw.gov.au/node/6771/download\"\n",
    "    print(\"loading from the internet\")\n",
    "\n",
    "cycleway_counterlocation = pd.read_csv(counterfilepath)\n",
    "print(\"done\")"
   ]
  },
  {
   "cell_type": "markdown",
   "metadata": {},
   "source": [
    "## 4. next steps?\n",
    "* import datasets from Strava, Google Maps, layer over data\n",
    "* understand why cycling is used: recreation/commuting?\n",
    "* understand why cycling is *NOT* used\n",
    "* start playing with cycle pathways?\n",
    "* feed into research: making Parramatta road a cycleway"
   ]
  }
 ],
 "metadata": {
  "kernelspec": {
   "display_name": "Python 3.10.5 64-bit (windows store)",
   "language": "python",
   "name": "python3"
  },
  "language_info": {
   "codemirror_mode": {
    "name": "ipython",
    "version": 3
   },
   "file_extension": ".py",
   "mimetype": "text/x-python",
   "name": "python",
   "nbconvert_exporter": "python",
   "pygments_lexer": "ipython3",
   "version": "3.10.5"
  },
  "orig_nbformat": 4,
  "vscode": {
   "interpreter": {
    "hash": "78f5cdf631625a066a653167db2158e13d9eba8bcee31c4bc62d1750c56aa6f9"
   }
  }
 },
 "nbformat": 4,
 "nbformat_minor": 2
}
